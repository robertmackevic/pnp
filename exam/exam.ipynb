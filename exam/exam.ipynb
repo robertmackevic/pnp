{
 "cells": [
  {
   "cell_type": "markdown",
   "id": "e368651e76113e74",
   "metadata": {},
   "source": [
    "## Exam 2025 Solutions\n",
    "**Robert Mackevič** 2325045"
   ]
  },
  {
   "cell_type": "code",
   "execution_count": 53,
   "id": "8de714a445e1ef19",
   "metadata": {
    "ExecuteTime": {
     "end_time": "2025-01-19T15:39:12.746327Z",
     "start_time": "2025-01-19T15:39:12.737614Z"
    }
   },
   "outputs": [],
   "source": [
    "from math import comb\n",
    "import numpy as np\n",
    "\n",
    "# Individualized parameters\n",
    "N = 6\n",
    "S = 8\n",
    "I1 = 5\n",
    "I2 = 4"
   ]
  },
  {
   "cell_type": "markdown",
   "id": "42e68ba4c68eb8d",
   "metadata": {},
   "source": [
    "### Problem 1\n",
    "\n",
    "$N = 6 + 8 = 14$\n",
    "\n",
    "$q_1 = \\frac{6}{6 + 8} = \\frac{6}{14} \\approx 0.4286$\n",
    "\n",
    "$q_2 = \\frac{1 + 5 + 6}{5 + 6 + 8} = \\frac{12}{19} \\approx 0.6316$\n",
    "\n",
    "$j = 6$"
   ]
  },
  {
   "cell_type": "markdown",
   "id": "216455f13b564cda",
   "metadata": {
    "ExecuteTime": {
     "end_time": "2025-01-19T15:39:12.799473Z",
     "start_time": "2025-01-19T15:39:12.786575Z"
    }
   },
   "source": [
    "#### Task (a)\n",
    "\n",
    "- $P_j$ depends only on the ranks of the order statistics $Y(j)$, which are independent of the underlying distribution $F_Y$ as long as $F_Y$ is continuous.  \n",
    "- For continuous $F_Y$, the normalized ranks $F_Y(Y(j))$ follow a uniform distribution on $[0, 1]$.  \n",
    "- Thus, $P_j$ is determined by the uniform distribution of ranks and does not depend on $F_Y$, making it distribution-free.\n",
    "\n",
    "**Assumptions:**\n",
    "- $F_Y$ is continuous to avoid ties.\n",
    "- The sample is i.i.d. (independent and identically distributed).\n"
   ]
  },
  {
   "cell_type": "markdown",
   "id": "c42e83a9",
   "metadata": {},
   "source": [
    "---\n",
    "#### Task (b)\n",
    "As in (a) we make an assumption that ranks are uniformaly distributed, therefore distribution of $Y_j$ is:\n",
    "\n",
    "$$\n",
    "F_{Y_{(j)}}(u) = \\sum_{k=j}^{N} \\binom{N}{k} u^k (1 - u)^{N - k}\n",
    "$$\n",
    "\n",
    "And the probability is:\n",
    "$$\n",
    "P_j = F_{Y_{(j)}}(q_2) - F_{Y_{(j)}}(q_1)\n",
    "$$\n",
    "\n",
    "Now we can calculate this with code:"
   ]
  },
  {
   "cell_type": "code",
   "execution_count": 54,
   "id": "8e7eafa7",
   "metadata": {},
   "outputs": [
    {
     "name": "stdout",
     "output_type": "stream",
     "text": [
      "P_6 = 0.364679\n"
     ]
    }
   ],
   "source": [
    "q1 = N / (N + S)\n",
    "q2 = (1 + I1 + N) / (I1 + N + S)\n",
    "j = N\n",
    "sample_size = N + S\n",
    "\n",
    "# Function to compute CDF of Fy\n",
    "def FY_cdf(u, j, n):\n",
    "    return sum(comb(n, k) * (u**k) * ((1-u)**(n-k)) for k in range(j, n+1))\n",
    "\n",
    "# Compute P_j for j=6\n",
    "F_q1 = FY_cdf(q1, j, sample_size)\n",
    "F_q2 = FY_cdf(q2, j, sample_size)\n",
    "P_j = F_q2 - F_q1\n",
    "\n",
    "print(f\"P_{j} = {P_j:.6f}\")"
   ]
  },
  {
   "cell_type": "markdown",
   "id": "d65c89a0",
   "metadata": {},
   "source": [
    "The result is $P_6 = 0.364679$\n",
    "\n",
    "---"
   ]
  },
  {
   "cell_type": "markdown",
   "id": "210564d3cd5829a",
   "metadata": {},
   "source": [
    "### Problem 2\n",
    "\n",
    "$N = 9 + \\text{min}(6, 8) = 9 + 6 = 15$\n",
    "\n",
    "$T = \\{21, 35, 26, 16, 21, 17, 44, 60, 16\\}$"
   ]
  },
  {
   "cell_type": "markdown",
   "id": "bd20bbca7b3f341b",
   "metadata": {
    "ExecuteTime": {
     "end_time": "2025-01-19T15:39:12.819042Z",
     "start_time": "2025-01-19T15:39:12.813296Z"
    }
   },
   "source": [
    "#### Task (a)\n",
    "\n",
    "\n",
    "$$\n",
    "\\eta_0 = P\\{T > t_1 \\mid T > t_0\\} =\n",
    "\\frac{P\\{T > t_1 \\cap T > t_0\\}}{P\\{T > t_0\\}} =\n",
    "\\frac{P\\{T > t_1\\}}{P\\{T > t_0\\}} =\n",
    "\\frac{1 - G_T(t_1)}{1 - G_T(t_0)}\n",
    "$$\n",
    "\n",
    "$$\n",
    "\\eta_1 := E[T - t_1 \\mid T > t_1] =\n",
    "\\frac{\\int_{t_1}^\\infty (T - t_1) f_T(T) \\, dT}{P\\{T > t_1\\}} = \n",
    "\\frac{\\int_{t_1}^\\infty (T - t_1) f_T(T) \\, dT}{1 - G_T(t_1)}\n",
    "$$\n",
    "\n",
    "Simplify the numerator:\n",
    "\n",
    "$$\n",
    "\\int_{t_1}^\\infty (T - t_1) f_T(T) \\, dT = \\int_{t_1}^\\infty T f_T(T) \\, dT - t_1 \\int_{t_1}^\\infty f_T(T) \\, dT\n",
    "$$\n",
    "\n",
    "From the properties of PDFs:\n",
    "\n",
    "$$\n",
    "\\int_{t_1}^\\infty f_T(T) \\, dT = P\\{T > t_1\\} = 1 - G_T(t_1)\n",
    "$$\n",
    "\n",
    "Thus:\n",
    "\n",
    "$$\n",
    "\\eta_1 = \\frac{\\int_{t_1}^\\infty T f_T(T) \\, dT - t_1 (1 - G_T(t_1))}{1 - G_T(t_1)}\n",
    "$$"
   ]
  },
  {
   "cell_type": "markdown",
   "id": "52e1d0ed",
   "metadata": {},
   "source": [
    "---\n",
    "#### Task (b)\n",
    "\n",
    "$G_T(t)$ can be estimated empirically as:\n",
    "$$\n",
    "\\hat{G}_T(t) = \\frac{\\# \\{ T_i \\leq t \\}}{n}\n",
    "$$\n",
    "\n",
    "The PDF $f_T(t)$ is related to $G_T(t)$ as:\n",
    "$$\n",
    "f_T(t) = \\frac{d}{dt} G_T(t)\n",
    "$$\n",
    "\n",
    "Knowing this, we can find the values sybolically, since $t_0$ and $t_1$ are not yet given:\n",
    "\n",
    "$$\n",
    "\\eta_0 = \\frac{1 - \\hat{G}_T(t_1)}{1 - \\hat{G}_T(t_0)}\n",
    "$$\n",
    "\n",
    "$$\n",
    "\\eta_1 = \\frac{\\sum_{T_i > t_1} (T_i - t_1)}{\\#\\{ T_i > t_1 \\}}\n",
    "$$\n",
    "\n",
    "$$\n",
    "Var(\\eta_0) = \\frac{\\eta_0(1 - \\eta_0)}{n}\n",
    "$$\n",
    "\n",
    "$$\n",
    "Var(\\eta_1) = \\frac{\\#\\{ T_i > t_1 \\} \\cdot Var(T_i - t_1 \\mid T_i > t_1)}{\\#\\{ T_i > t_1 \\}}\n",
    "$$"
   ]
  },
  {
   "cell_type": "markdown",
   "id": "809864b8",
   "metadata": {},
   "source": [
    "----\n",
    "#### Task (c)\n",
    "The CDF of the Pareto distribution is:\n",
    "\n",
    "$G_T(t) = \\begin{cases} \n",
    "1 - \\left(\\frac{b}{t}\\right)^a & t \\geq b \\\\\n",
    "0 & t < b\n",
    "\\end{cases}$\n",
    "\n",
    "The PDF is:\n",
    "\n",
    "$f_T(t) = \\begin{cases} \n",
    "\\frac{a}{b^a} t^{a + 1} & t \\geq b \\\\\n",
    "0 & t < b\n",
    "\\end{cases}$\n",
    "\n",
    "\n",
    "From Problem 2(a):\n",
    "\n",
    "$$\n",
    "\\eta_0 = P\\{T > t_1 \\mid T > t_0\\} = \\frac{P\\{T > t_1\\}}{P\\{T > t_0\\}}\n",
    "$$\n",
    "\n",
    "Using $P\\{T > t\\} = 1 - G_T(t) = \\left(\\frac{b}{t}\\right)^a$:\n",
    "\n",
    "$$\n",
    "\\eta_0 = \\frac{\\left(\\frac{b}{t_1}\\right)^a}{\\left(\\frac{b}{t_0}\\right)^a} = \\left(\\frac{t_0}{t_1}\\right)^a\n",
    "$$\n",
    "\n",
    "From Problem 2(a):\n",
    "\n",
    "$$\n",
    "\\eta_1 = E[T - t_1 \\mid T > t_1]\n",
    "$$\n",
    "\n",
    "The conditional expectation $E[T \\mid T > t_1]$ for a Pareto distribution is:\n",
    "\n",
    "$$\n",
    "E[T \\mid T > t_1] = \\frac{a t_1}{a - 1}, \\text{for }a > 1\n",
    "$$\n",
    "\n",
    "Thus:\n",
    "$$\n",
    "\\eta_1 = E[T - t_1 \\mid T > t_1] = \\frac{a t_1}{a - 1} - t_1 = t_1 \\left(\\frac{a}{a - 1} - 1\\right) = t_1 \\cdot \\frac{a - 1}{a - 1} = t_1 \\cdot (a - 1)\n",
    "$$\n",
    "\n",
    "\n",
    "The variance of $\\eta_0$ depends on the variability in $G_T(t_0)$ and $G_T(t_1)$. For large $n$ (sample size):\n",
    "\n",
    "$$\n",
    "Var(\\eta_0) \\propto \\frac{\\eta_0(1 - \\eta_0)}{n}\n",
    "$$\n",
    "\n",
    "The variance of $\\eta_1$ depends on the second moment of $T$ conditional on $T > t_1$. For $T \\sim \\text{Pareto}(a, b)$, the conditional variance is:\n",
    "\n",
    "$$\n",
    "Var(T \\mid T > t_1) = \\frac{a t_1^2 (a - 2)}{(a - 1)^2}, \\text{for } a > 2\n",
    "$$\n",
    "\n",
    "Thus:\n",
    "$$\n",
    "Var(\\eta_1) = \\frac{\\#\\{T_i > t_1\\} \\cdot Var(T \\mid T > t_1)}{\\#\\{T_i > t_1\\}}\n",
    "$$"
   ]
  },
  {
   "cell_type": "markdown",
   "id": "ac53d877",
   "metadata": {},
   "source": [
    "---\n",
    "#### Task (d)\n",
    "$t_0=12$\\\n",
    "$t_1=20$\n",
    "\n",
    "Since $a$ and $b$ are not given, we can estimate using MLE for the Pareto distribution:\n",
    "$$\n",
    "\\hat{b} = \\min(T) = 16\n",
    "$$\n",
    "$$\n",
    "\\hat{a} = \\frac{n}{\\sum_{i=1}^{n} \\ln\\left(\\frac{T_i}{\\hat{b}}\\right)} \n",
    "$$\n",
    "\n",
    "Below code is for computing (b) statistics"
   ]
  },
  {
   "cell_type": "code",
   "execution_count": 55,
   "id": "79ee8f6e",
   "metadata": {},
   "outputs": [
    {
     "name": "stdout",
     "output_type": "stream",
     "text": [
      "eta_0 0.4444444444444444\n",
      "eta_1 18.25\n",
      "var_eta_0 0.027434842249657063\n",
      "var_eta_1 210.25\n"
     ]
    }
   ],
   "source": [
    "T = np.array([17 + I2, 35, 26, 11 + I1, 21, 9 + S, 44, 10 * N, 16])\n",
    "t0 = 12\n",
    "t1 = 15 + min(S, 9)\n",
    "sample_size = len(T)\n",
    "\n",
    "G_T_t0 = len(T[T <= t0]) / sample_size  # Empirical CDF at t0\n",
    "G_T_t1 = len(T[T <= t1]) / sample_size  # Empirical CDF at t1\n",
    "\n",
    "# Compute eta_0\n",
    "eta_0 = (1 - G_T_t1) / (1 - G_T_t0)\n",
    "\n",
    "# Compute eta_1\n",
    "T_greater_t1 = T[T > t1]\n",
    "eta_1 = sum(T_greater_t1 - t1) / len(T_greater_t1) if len(T_greater_t1) > 0 else 0\n",
    "\n",
    "# Variance of eta_0\n",
    "var_eta_0 = (eta_0 * (1 - eta_0)) / sample_size\n",
    "\n",
    "# Variance of eta_1\n",
    "deviations = [(t - t1 - eta_1)**2 for t in T_greater_t1]\n",
    "var_eta_1 = sum(deviations) / (len(T_greater_t1) - 1) if len(T_greater_t1) > 1 else 0\n",
    "\n",
    "print(\"eta_0\", eta_0)\n",
    "print(\"eta_1\", eta_1)\n",
    "print(\"var_eta_0\", var_eta_0)\n",
    "print(\"var_eta_1\", var_eta_1)"
   ]
  },
  {
   "cell_type": "markdown",
   "id": "54dd77d8",
   "metadata": {},
   "source": [
    "Bellow code is computing (c) statistics"
   ]
  },
  {
   "cell_type": "code",
   "execution_count": 56,
   "id": "49308e18",
   "metadata": {},
   "outputs": [
    {
     "name": "stdout",
     "output_type": "stream",
     "text": [
      "eta_0 0.24855550959684575\n",
      "eta_1 20.180018175276352\n",
      "var_eta_0 0.020752852027322008\n",
      "var_eta_1 6235.619660485078\n"
     ]
    }
   ],
   "source": [
    "T = np.array([17 + I2, 35, 26, 11 + I1, 21, 9 + S, 44, 10 * N, 16])\n",
    "sample_size = len(T)\n",
    "\n",
    "# Compute MLE estimates for a and b (shape and scale parameters)\n",
    "b_hat = np.min(T)\n",
    "a_hat = sample_size / np.sum(np.log(T / b_hat))\n",
    "\n",
    "t0 = 12\n",
    "t1 = 15 + min(S, 9)\n",
    "\n",
    "# Compute eta_0\n",
    "eta_0 = (t0 / t1) ** a_hat\n",
    "\n",
    "# Compute eta_1\n",
    "if a_hat > 1:\n",
    "    eta_1 = t1 / (a_hat - 1)\n",
    "else:\n",
    "    eta_1 = None  # Not defined for a_hat <= 1\n",
    "\n",
    "# Variance of eta_0\n",
    "var_eta_0 = (eta_0 * (1 - eta_0)) / sample_size\n",
    "\n",
    "# Variance of eta_1\n",
    "if a_hat > 2:\n",
    "    var_eta_1 = (a_hat * t1**2) / ((a_hat - 2) * (a_hat - 1)**2)\n",
    "else:\n",
    "    var_eta_1 = None  # Not defined for a_hat <= 2\n",
    "\n",
    "print(\"eta_0\", eta_0)\n",
    "print(\"eta_1\", eta_1)\n",
    "print(\"var_eta_0\", var_eta_0)\n",
    "print(\"var_eta_1\", var_eta_1)"
   ]
  },
  {
   "cell_type": "markdown",
   "id": "a2d6b71b",
   "metadata": {},
   "source": [
    "Accuracy Comparison:\n",
    "- The empirical estimates (from task b) yield smaller variances compared to those based on the Pareto model (task c).  \n",
    "- The discrepancy in $\\eta_1$ values suggests the Pareto assumption introduces bias due to overestimation of larger values.  "
   ]
  },
  {
   "cell_type": "markdown",
   "id": "0040a040",
   "metadata": {},
   "source": [
    "---\n",
    "#### Task (e)\n",
    "\n",
    "The Mean $ E(T) $ can be rstimated as:\n",
    "$$\n",
    "\\hat{E}(T) = \\bar{T} = \\frac{1}{n} \\sum_{i=1}^{n} T_i\n",
    "$$\n",
    "\n",
    "where $T_i$ are the observed values and $n$ is the sample size.\n",
    "\n",
    "The variance of the sample mean $\\bar{T}$ is given by:\n",
    "\n",
    "$$\n",
    "Var(\\bar{T}) = \\frac{S^2}{n}\n",
    "$$\n",
    "\n",
    "where $S^2$ is the sample variance:\n",
    "\n",
    "$$\n",
    "S^2 = \\frac{1}{n - 1} \\sum_{i=1}^{n} (T_i - \\bar{T})^2\n",
    "$$"
   ]
  },
  {
   "cell_type": "code",
   "execution_count": 57,
   "id": "90be771f",
   "metadata": {},
   "outputs": [
    {
     "name": "stdout",
     "output_type": "stream",
     "text": [
      "median 21.0\n",
      "mean 28.444444444444443\n",
      "sample_variance 229.77777777777777\n",
      "var_mean 25.530864197530864\n"
     ]
    }
   ],
   "source": [
    "T = np.array([17 + I2, 35, 26, 11 + I1, 21, 9 + S, 44, 10 * N, 16])\n",
    "\n",
    "# Compute median\n",
    "median_T = np.median(T)\n",
    "\n",
    "# Compute mean\n",
    "mean_T = np.mean(T)\n",
    "\n",
    "# Compute sample variance\n",
    "sample_variance = np.var(T, ddof=1)\n",
    "\n",
    "# Variance of the estimator of the mean\n",
    "var_mean_T = sample_variance / len(T)\n",
    "\n",
    "print(\"median\", median_T)\n",
    "print(\"mean\", mean_T)\n",
    "print(\"sample_variance\", sample_variance)\n",
    "print(\"var_mean\", var_mean_T)"
   ]
  },
  {
   "cell_type": "markdown",
   "id": "911df8ef",
   "metadata": {},
   "source": [
    "$Median(T) = 21.0$\\\n",
    "$\\hat{E}(T) = \\bar{T} \\approx 28.44$\\\n",
    "$Var(\\hat{E}(T)) = \\frac{S^2}{n} \\approx 25.53$"
   ]
  },
  {
   "cell_type": "markdown",
   "id": "1a8fc2d0",
   "metadata": {},
   "source": [
    "---\n",
    "#### Task (f)\n",
    "The symmetry of $\\log(T)$ suggests that the median of $\\log(T)$ can be used to estimate $E(\\log(T))$. By transforming back, the exponential of this median serves as a nonparametric estimator for $E(T)$.\n",
    "\n",
    "$\\hat{E}(\\log(T)) = Median(\\log(T))$\\\n",
    "$\\hat{E}(T) = \\exp(Median(\\log(T)))$\n",
    "\n",
    "\n",
    "To estimate the variance of $\\hat{E}(T)$, the following steps can be proposed:\n",
    "\n",
    "1. Generate bootstrap samples $T_b^*$ by sampling $T$ with replacement.\n",
    "2. For each bootstrap sample, compute: $\\hat{E}(T_b^*) = \\exp(Median(log(T_b^*)))$.\n",
    "3. Calculate the variance of the bootstrap estimates:  \n",
    "   $$\n",
    "   Var(\\hat{E}(T)) = \\frac{1}{B - 1} \\sum_{b=1}^{B} (\\hat{E}(T_b^*) - \\hat{E}(T^*))^2\n",
    "   $$\n",
    "   where $B$ is the number of bootstrap samples.\n"
   ]
  },
  {
   "cell_type": "markdown",
   "id": "8421f31b",
   "metadata": {},
   "source": [
    "---\n",
    "#### Task (g)"
   ]
  },
  {
   "cell_type": "code",
   "execution_count": 58,
   "id": "03ff9ca4",
   "metadata": {},
   "outputs": [
    {
     "name": "stdout",
     "output_type": "stream",
     "text": [
      "0.1111111111111111\n",
      "0.25\n",
      "0.37644449040315436\n",
      "20.219981824723646\n"
     ]
    }
   ],
   "source": [
    "sample_size = 9\n",
    "breakdown_point_eta0 = 1 / sample_size  # Single outlier affects ranks in G_T\n",
    "breakdown_point_eta1 = 1 / len(T_greater_t1) if len(T_greater_t1) > 0 else None\n",
    "\n",
    "# Compute maximal bias for eta_0\n",
    "# Maximize eta_0 by minimizing G_T(t1) and maximizing G_T(t0)\n",
    "max_bias_eta0 = abs(\n",
    "    ((1 - (len(T[T <= t1]) - 1) / sample_size) / (1 - (len(T[T <= t0]) + 1) / sample_size)) - eta_0\n",
    ")\n",
    "\n",
    "# Compute maximal bias for eta_1\n",
    "# Maximize eta_1 by adding an extremely large T_i > t1\n",
    "max_T = max(T)  # Assume max outlier\n",
    "min_T = t1  # Assume min outlier near t1\n",
    "\n",
    "max_bias_eta1 = abs((sum(T_greater_t1) + max_T - t1) / (len(T_greater_t1) + 1) - eta_1)\n",
    "\n",
    "print(breakdown_point_eta0)\n",
    "print(breakdown_point_eta1)\n",
    "print(max_bias_eta0)\n",
    "print(max_bias_eta1)"
   ]
  },
  {
   "cell_type": "markdown",
   "id": "88b23dcc",
   "metadata": {},
   "source": [
    "\n",
    "$Breakdown\\ Point(\\eta_0) = \\approx 0.1111$\n",
    "\n",
    "$Breakdown\\ Point(\\eta_1) \\approx 0.25$\n",
    "\n",
    "$Maximal\\ Bias(\\eta_0) \\approx 0.3764$\n",
    "\n",
    "$Maximal\\ Bias(\\eta_1) \\approx 20.22$\n",
    "\n",
    "\n",
    "**Robustness:**\n",
    "- $\\eta_0$ is robust to moderate contamination due to rank-based computation, but breakdown occurs with one extreme outlier, reflected in its lower maximal bias.\n",
    "- $\\eta_1$ is sensitive to extreme values in $T_i > t_1$, as seen in the high maximal bias. Its breakdown point is higher, but its sensitivity to magnitudes makes it less robust.\n"
   ]
  },
  {
   "cell_type": "markdown",
   "id": "21d1a0a3",
   "metadata": {},
   "source": [
    "---"
   ]
  },
  {
   "cell_type": "markdown",
   "id": "6de23c4e70653907",
   "metadata": {},
   "source": [
    "### Problem 3"
   ]
  },
  {
   "cell_type": "markdown",
   "id": "bf89fe242930b772",
   "metadata": {
    "ExecuteTime": {
     "end_time": "2025-01-19T15:39:13.774519Z",
     "start_time": "2025-01-19T15:39:13.769385Z"
    }
   },
   "source": [
    "#### Task (a)\n",
    "\n",
    "The parameter to estimate is:\n",
    "\n",
    "$\\alpha = E(X) \\cdot (E(X))^2$\n",
    "\n",
    "If $\\mu = E(X)$, then:\n",
    "\n",
    "$\\alpha = \\mu \\cdot \\mu^2 = \\mu^3$\n",
    "\n",
    "A naive plug-in estimator for $\\alpha$ could be:\n",
    "\n",
    "$$\n",
    "\\hat{\\alpha}_{naive} = \\bar{X} \\cdot (\\bar{X})^2 = (\\bar{X})^3\n",
    "$$\n",
    "\n",
    "where $\\bar{X}$ is the sample mean.\n",
    "\n",
    "\n",
    "To correct the bias, we consider the following:\n",
    "\n",
    "- Expand $(\\bar{X})^3$ using the properties of variance and higher-order moments.  \n",
    "- Derive a correction term for the bias based on $Var(\\bar{X})$.  \n",
    "\n",
    "$$\n",
    "Var(\\bar{X}) = \\frac{\\sigma^2}{n}\n",
    "$$,\n",
    "\n",
    "where $\\sigma^2 = Var(X)$.\n",
    "\n",
    "Using a Taylor series expansion or direct adjustments for bias, the bias-corrected estimator is:\n",
    "\n",
    "$$\n",
    "\\hat{\\alpha} = (\\bar{X})^3 - 3 \\cdot \\bar{X} \\cdot \\frac{Var(\\bar{X})}{n} =\n",
    "(\\bar{X})^3 - \\frac{3 \\cdot \\bar{X} \\cdot \\sigma^2}{n^2}\n",
    "$$.\n",
    "\n",
    "If $\\sigma^2$ is unknown, replace it with the sample variance $S^2$:\n",
    "\n",
    "$S^2 = \\frac{1}{n - 1} \\sum_{i=1}^{n} (X_i - \\bar{X})^2$.\n",
    "\n",
    "Thus:\n",
    "\n",
    "$$\n",
    "\\hat{\\alpha} = (\\bar{X})^3 - \\frac{3 \\cdot \\bar{X} \\cdot S^2}{n}\n",
    "$$.\n",
    "\n",
    "The variance of $\\hat{\\alpha}$ is derived based on the delta method or variance propagation for nonlinear estimators. A simplified expression is:\n",
    "\n",
    "$$\n",
    "V_2 = Var(\\hat{\\alpha}) \\approx Var((\\bar{X})^3) = 9 \\cdot (\\mu^4) \\cdot \\frac{\\sigma^2}{n}\n",
    "$$,\n",
    "\n",
    "where higher-order moments of $X$ influence the variance.\n",
    "\n",
    "Using sample estimates:\n",
    "\n",
    "$$\n",
    "\\hat{V}_2 = 9 \\cdot (\\bar{X})^4 \\cdot \\frac{S^2}{n}\n",
    "$$."
   ]
  },
  {
   "cell_type": "markdown",
   "id": "63b654e1",
   "metadata": {},
   "source": [
    "----\n",
    "#### Task (b)"
   ]
  },
  {
   "cell_type": "code",
   "execution_count": 59,
   "id": "3aa6cfd6",
   "metadata": {},
   "outputs": [
    {
     "name": "stdout",
     "output_type": "stream",
     "text": [
      "Sample mean 28.444444444444443\n",
      "Sample variance 229.77777777777777\n",
      "alpha_hat 20835.37997256515\n",
      "variance_alpha_hat 150417320.6680553\n"
     ]
    }
   ],
   "source": [
    "X = [17 + I2, 35, 26, 11 + I1, 21, 9 + S, 44, 10 * N, 16]\n",
    "sample_size = len(X)\n",
    "\n",
    "# Compute mean\n",
    "mean_X = sum(X) / sample_size\n",
    "\n",
    "# Compute sample variance\n",
    "variance_X = sum((t - mean_X)**2 for t in X) / (sample_size - 1)\n",
    "\n",
    "# Compute bias-adjusted alpha\n",
    "alpha_hat = (mean_X**3) - (3 * mean_X * variance_X / sample_size)\n",
    "\n",
    "# Compute variance of alpha estimator\n",
    "variance_alpha_hat = 9 * (mean_X**4) * (variance_X / sample_size)\n",
    "\n",
    "print(\"Sample mean\", mean_X)\n",
    "print(\"Sample variance\", variance_X)\n",
    "print(\"alpha_hat\", alpha_hat)\n",
    "print(\"variance_alpha_hat\", variance_alpha_hat)\n"
   ]
  },
  {
   "cell_type": "markdown",
   "id": "8461bcaa",
   "metadata": {},
   "source": [
    "Answers are:\n",
    "\n",
    "$\\hat{\\alpha} \\approx 20835.38$\n",
    "\n",
    "$\\hat{V}^2 \\approx 150417320.67$\n",
    "\n",
    "----"
   ]
  },
  {
   "cell_type": "markdown",
   "id": "554132d5d2168f87",
   "metadata": {},
   "source": [
    "### Problem 5"
   ]
  },
  {
   "cell_type": "markdown",
   "id": "20fe8389406fc81c",
   "metadata": {
    "ExecuteTime": {
     "end_time": "2025-01-19T15:39:13.893896Z",
     "start_time": "2025-01-19T15:39:13.888299Z"
    }
   },
   "source": [
    "Testing $H_0: E(T) = 18$ vs $H_1: E(T) \\neq 18$"
   ]
  },
  {
   "cell_type": "markdown",
   "id": "ebd2d5ed",
   "metadata": {},
   "source": [
    "The symmetry of $h(T)$ implies that the missingness in $T$ can be addressed under the assumption that the observed values of $T$ are representative of the true distribution.\n",
    "\n",
    "To perform bootstrap with missing data:\n",
    "- Assume that $h(T)$ is symmetric about some $a$ and that the observed data $T$ can approximate the distribution.  \n",
    "- Bootstrap samples are drawn only from the observed values of $T$, treating them as complete for resampling purposes.\n",
    "\n",
    "Procedure:\n",
    "- Resample $T$ (observed values only) with replacement to create bootstrap samples $T_b^*$.  \n",
    "- Compute the mean $\\bar{T}_b^*$ for each bootstrap sample.\n",
    "\n",
    "- Under the null hypothesis $E(T) = 18$, shift the bootstrap means:\n",
    "\n",
    "$$\n",
    "\\bar{T}_b^*(\\text{null-adjusted}) = \\bar{T}_b^* - (\\bar{T} - 18)\n",
    "$$.\n",
    "\n",
    "- Compute the Test Statistic $T_{obs} = \\bar{T}$.\n",
    "- Calculate the proportion of null-adjusted bootstrap means $\\bar{T}_b^*$ that are as extreme as $T_{obs}$, considering the symmetry:\n",
    "\n",
    "$$\n",
    "p\\text{-value} = \\frac{\\# \\{ |\\bar{T}_b^*| \\geq |T_{obs}| \\}}{\\text{number of bootstrap samples}}\n",
    "$$\n",
    "\n",
    "- If p-value is less than the significance level, than reject the null hypothesis\n",
    "----"
   ]
  }
 ],
 "metadata": {
  "kernelspec": {
   "display_name": "pnp",
   "language": "python",
   "name": "python3"
  },
  "language_info": {
   "codemirror_mode": {
    "name": "ipython",
    "version": 3
   },
   "file_extension": ".py",
   "mimetype": "text/x-python",
   "name": "python",
   "nbconvert_exporter": "python",
   "pygments_lexer": "ipython3",
   "version": "3.12.7"
  }
 },
 "nbformat": 4,
 "nbformat_minor": 5
}
