{
 "cells": [
  {
   "metadata": {},
   "cell_type": "markdown",
   "source": [
    "## Exam 2025 Solutions\n",
    "**Robert Mackevič** 2325045"
   ],
   "id": "e368651e76113e74"
  },
  {
   "metadata": {
    "ExecuteTime": {
     "end_time": "2025-01-19T15:39:12.746327Z",
     "start_time": "2025-01-19T15:39:12.737614Z"
    }
   },
   "cell_type": "code",
   "source": [
    "# Individualized parameters\n",
    "N = 6\n",
    "S = 8\n",
    "I1 = 5\n",
    "I2 = 4"
   ],
   "id": "8de714a445e1ef19",
   "outputs": [],
   "execution_count": 1
  },
  {
   "metadata": {},
   "cell_type": "markdown",
   "source": "### Problem 1",
   "id": "42e68ba4c68eb8d"
  },
  {
   "metadata": {
    "ExecuteTime": {
     "end_time": "2025-01-19T15:39:12.799473Z",
     "start_time": "2025-01-19T15:39:12.786575Z"
    }
   },
   "cell_type": "code",
   "source": "",
   "id": "216455f13b564cda",
   "outputs": [],
   "execution_count": null
  },
  {
   "metadata": {},
   "cell_type": "markdown",
   "source": "### Problem 2",
   "id": "210564d3cd5829a"
  },
  {
   "metadata": {
    "ExecuteTime": {
     "end_time": "2025-01-19T15:39:12.819042Z",
     "start_time": "2025-01-19T15:39:12.813296Z"
    }
   },
   "cell_type": "code",
   "source": "",
   "id": "bd20bbca7b3f341b",
   "outputs": [],
   "execution_count": null
  },
  {
   "metadata": {},
   "cell_type": "markdown",
   "source": "### Problem 3",
   "id": "6de23c4e70653907"
  },
  {
   "metadata": {
    "ExecuteTime": {
     "end_time": "2025-01-19T15:39:13.774519Z",
     "start_time": "2025-01-19T15:39:13.769385Z"
    }
   },
   "cell_type": "code",
   "source": "",
   "id": "bf89fe242930b772",
   "outputs": [],
   "execution_count": null
  },
  {
   "metadata": {},
   "cell_type": "markdown",
   "source": "### Problem 4",
   "id": "af756ac82311c554"
  },
  {
   "metadata": {
    "ExecuteTime": {
     "end_time": "2025-01-19T15:39:13.803049Z",
     "start_time": "2025-01-19T15:39:13.797717Z"
    }
   },
   "cell_type": "code",
   "source": "",
   "id": "390b09f5588f5e49",
   "outputs": [],
   "execution_count": null
  },
  {
   "metadata": {},
   "cell_type": "markdown",
   "source": "### Problem 5",
   "id": "554132d5d2168f87"
  },
  {
   "metadata": {
    "ExecuteTime": {
     "end_time": "2025-01-19T15:39:13.893896Z",
     "start_time": "2025-01-19T15:39:13.888299Z"
    }
   },
   "cell_type": "code",
   "source": "",
   "id": "20fe8389406fc81c",
   "outputs": [],
   "execution_count": null
  },
  {
   "metadata": {},
   "cell_type": "markdown",
   "source": "### Problem 6",
   "id": "6e5086c87b1d828b"
  },
  {
   "metadata": {
    "ExecuteTime": {
     "end_time": "2025-01-19T15:39:13.922223Z",
     "start_time": "2025-01-19T15:39:13.914250Z"
    }
   },
   "cell_type": "code",
   "source": "",
   "id": "72b963c5094ae0d5",
   "outputs": [],
   "execution_count": null
  },
  {
   "metadata": {},
   "cell_type": "markdown",
   "source": "### Problem 7",
   "id": "ec4fe187c1510bd4"
  },
  {
   "metadata": {
    "ExecuteTime": {
     "end_time": "2025-01-19T15:39:13.968596Z",
     "start_time": "2025-01-19T15:39:13.964265Z"
    }
   },
   "cell_type": "code",
   "source": "",
   "id": "ad1ce1cc8e624757",
   "outputs": [],
   "execution_count": null
  }
 ],
 "metadata": {
  "kernelspec": {
   "display_name": "Python 3",
   "language": "python",
   "name": "python3"
  },
  "language_info": {
   "codemirror_mode": {
    "name": "ipython",
    "version": 2
   },
   "file_extension": ".py",
   "mimetype": "text/x-python",
   "name": "python",
   "nbconvert_exporter": "python",
   "pygments_lexer": "ipython2",
   "version": "2.7.6"
  }
 },
 "nbformat": 4,
 "nbformat_minor": 5
}
