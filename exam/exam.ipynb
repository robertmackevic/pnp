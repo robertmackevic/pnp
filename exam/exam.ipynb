{
 "cells": [
  {
   "metadata": {},
   "cell_type": "markdown",
   "source": [
    "## Exam 2025 Solutions\n",
    "**Robert Mackevič**"
   ],
   "id": "e368651e76113e74"
  },
  {
   "metadata": {},
   "cell_type": "markdown",
   "source": "### Problem 1",
   "id": "42e68ba4c68eb8d"
  },
  {
   "metadata": {},
   "cell_type": "code",
   "outputs": [],
   "execution_count": null,
   "source": "",
   "id": "216455f13b564cda"
  },
  {
   "metadata": {},
   "cell_type": "markdown",
   "source": "### Problem 2",
   "id": "210564d3cd5829a"
  },
  {
   "metadata": {},
   "cell_type": "code",
   "outputs": [],
   "execution_count": null,
   "source": "",
   "id": "bd20bbca7b3f341b"
  },
  {
   "metadata": {},
   "cell_type": "markdown",
   "source": "### Problem 3",
   "id": "6de23c4e70653907"
  },
  {
   "metadata": {},
   "cell_type": "code",
   "outputs": [],
   "execution_count": null,
   "source": "",
   "id": "bf89fe242930b772"
  },
  {
   "metadata": {},
   "cell_type": "markdown",
   "source": "### Problem 4",
   "id": "af756ac82311c554"
  },
  {
   "metadata": {},
   "cell_type": "code",
   "outputs": [],
   "execution_count": null,
   "source": "",
   "id": "390b09f5588f5e49"
  },
  {
   "metadata": {},
   "cell_type": "markdown",
   "source": "### Problem 5",
   "id": "554132d5d2168f87"
  },
  {
   "metadata": {},
   "cell_type": "code",
   "outputs": [],
   "execution_count": null,
   "source": "",
   "id": "20fe8389406fc81c"
  },
  {
   "metadata": {},
   "cell_type": "markdown",
   "source": "### Problem 6",
   "id": "6e5086c87b1d828b"
  },
  {
   "metadata": {
    "ExecuteTime": {
     "end_time": "2025-01-18T17:03:25.893210Z",
     "start_time": "2025-01-18T17:03:25.891205Z"
    }
   },
   "cell_type": "code",
   "source": "",
   "id": "72b963c5094ae0d5",
   "outputs": [],
   "execution_count": null
  },
  {
   "metadata": {},
   "cell_type": "markdown",
   "source": "### Problem 7",
   "id": "ec4fe187c1510bd4"
  },
  {
   "metadata": {},
   "cell_type": "code",
   "outputs": [],
   "execution_count": null,
   "source": "",
   "id": "ad1ce1cc8e624757"
  }
 ],
 "metadata": {
  "kernelspec": {
   "display_name": "Python 3",
   "language": "python",
   "name": "python3"
  },
  "language_info": {
   "codemirror_mode": {
    "name": "ipython",
    "version": 2
   },
   "file_extension": ".py",
   "mimetype": "text/x-python",
   "name": "python",
   "nbconvert_exporter": "python",
   "pygments_lexer": "ipython2",
   "version": "2.7.6"
  }
 },
 "nbformat": 4,
 "nbformat_minor": 5
}
