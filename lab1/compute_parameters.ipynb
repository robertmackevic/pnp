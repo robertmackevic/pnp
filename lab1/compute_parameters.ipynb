{
 "cells": [
  {
   "metadata": {},
   "cell_type": "code",
   "source": "import numpy as np",
   "id": "bca51555e7eb6354",
   "outputs": [],
   "execution_count": null
  },
  {
   "metadata": {
    "collapsed": true
   },
   "cell_type": "code",
   "source": [
    "N = 6\n",
    "S = 8\n",
    "I1 = 5\n",
    "I2 = 4\n",
    "\n",
    "alpha_1 = 0.1\n",
    "alpha_2 = 0.01\n",
    "\n",
    "tau = 1 / (1 + I1)\n",
    "p1 = (alpha_1 ** (1 - tau)) * (alpha_2 ** tau)\n",
    "p2 = 5 * p1 / np.sqrt(S)\n",
    "\n",
    "print(f\"\"\"\n",
    "N = {N}\n",
    "S = {S}\n",
    "I1 = {I1}\n",
    "I2 = {I2}\n",
    "alpha_1 = {alpha_1}\n",
    "alpha_2 = {alpha_2}\n",
    "tau = {tau}\n",
    "p1 = {p1}\n",
    "p2 = {p2}\n",
    "\"\"\")"
   ],
   "id": "initial_id",
   "outputs": [],
   "execution_count": null
  }
 ],
 "metadata": {
  "kernelspec": {
   "display_name": "Python 3",
   "language": "python",
   "name": "python3"
  },
  "language_info": {
   "codemirror_mode": {
    "name": "ipython",
    "version": 2
   },
   "file_extension": ".py",
   "mimetype": "text/x-python",
   "name": "python",
   "nbconvert_exporter": "python",
   "pygments_lexer": "ipython2",
   "version": "2.7.6"
  }
 },
 "nbformat": 4,
 "nbformat_minor": 5
}
