{
 "cells": [
  {
   "cell_type": "code",
   "execution_count": 1,
   "id": "bca51555e7eb6354",
   "metadata": {},
   "outputs": [],
   "source": [
    "from typing import Tuple\n",
    "\n",
    "import numpy as np\n",
    "from scipy import stats\n",
    "from scipy.optimize import fsolve"
   ]
  },
  {
   "cell_type": "code",
   "execution_count": 2,
   "id": "initial_id",
   "metadata": {
    "collapsed": true
   },
   "outputs": [
    {
     "name": "stdout",
     "output_type": "stream",
     "text": [
      "\n",
      "N = 6\n",
      "S = 8\n",
      "I1 = 5\n",
      "I2 = 4\n",
      "alpha_1 = 0.1\n",
      "alpha_2 = 0.01\n",
      "tau = 0.16666666666666666\n",
      "p1 = 0.06812920690579613\n",
      "p2 = 1.9269849679979922\n",
      "\n"
     ]
    }
   ],
   "source": [
    "N = 6\n",
    "S = 8\n",
    "I1 = 5\n",
    "I2 = 4\n",
    "\n",
    "alpha_1 = 0.1\n",
    "alpha_2 = 0.01\n",
    "\n",
    "tau = 1 / (1 + I1)\n",
    "p1 = (alpha_1 ** (1 - tau)) * (alpha_2 ** tau)\n",
    "p2 = 10 * np.sqrt(S) * p1\n",
    "\n",
    "dist_family = {\n",
    "    1: {\"theta\": (0, 1), \"dist\": stats.t},\n",
    "    2: {\"theta\": (S, N), \"dist\": stats.gamma},\n",
    "    3: {\"theta\": (N, S + 2), \"dist\": stats.pareto},\n",
    "    4: {\"theta\": (S, S + N), \"dist\": stats.beta},\n",
    "    5: {\"theta\": (-N, S + 4), \"dist\": stats.uniform},\n",
    "}\n",
    "\n",
    "\n",
    "def compute_theta_1(distribution: stats.rv_continuous, theta_0: Tuple[float, float]) -> Tuple[float, float]:\n",
    "    mu0 = distribution.mean(*theta_0)\n",
    "    v0 = distribution.var(*theta_0)\n",
    "\n",
    "    def equations(params: Tuple[float, float]) -> Tuple[float, float]:\n",
    "        scale, shape = params\n",
    "        return (distribution.mean(scale, shape) - mu0,\n",
    "                distribution.var(scale, shape) - N * v0)\n",
    "\n",
    "    _theta_1 = fsolve(equations, np.array(theta_0))\n",
    "    return _theta_1[0].item(), _theta_1[1].item()\n",
    "\n",
    "\n",
    "def compute_theta_2(distribution: stats.rv_continuous, theta_0: Tuple[float, float]) -> Tuple[float, float]:\n",
    "    mu0 = distribution.mean(*theta_0)\n",
    "    v0 = distribution.var(*theta_0)\n",
    "\n",
    "    def equations(params):\n",
    "        scale, shape = params\n",
    "        return (stats.pareto.mean(scale, shape) - (mu0 + 2 * np.sqrt(v0)),\n",
    "                stats.pareto.var(scale, shape) * S - v0)\n",
    "\n",
    "    _theta_2 = fsolve(equations, np.array(theta_0))\n",
    "    return _theta_2[0].item(), _theta_2[1].item()\n",
    "\n",
    "\n",
    "print(f\"\"\"\n",
    "N = {N}\n",
    "S = {S}\n",
    "I1 = {I1}\n",
    "I2 = {I2}\n",
    "alpha_1 = {alpha_1}\n",
    "alpha_2 = {alpha_2}\n",
    "tau = {tau}\n",
    "p1 = {p1}\n",
    "p2 = {p2}\n",
    "\"\"\")"
   ]
  },
  {
   "cell_type": "code",
   "execution_count": 3,
   "id": "3cfd187b56919be7",
   "metadata": {},
   "outputs": [
    {
     "data": {
      "text/plain": [
       "{'theta': (-6, 12),\n",
       " 'dist': <scipy.stats._continuous_distns.uniform_gen at 0x1dd76c62a10>}"
      ]
     },
     "execution_count": 3,
     "metadata": {},
     "output_type": "execute_result"
    }
   ],
   "source": [
    "family = dist_family[5]\n",
    "family"
   ]
  },
  {
   "cell_type": "code",
   "execution_count": 4,
   "id": "c427598c0c61f139",
   "metadata": {},
   "outputs": [
    {
     "data": {
      "text/plain": [
       "(-14.696938456699069, 29.393876913398138)"
      ]
     },
     "execution_count": 4,
     "metadata": {},
     "output_type": "execute_result"
    }
   ],
   "source": [
    "theta_1 = compute_theta_1(distribution=family[\"dist\"], theta_0=family[\"theta\"])\n",
    "theta_1"
   ]
  },
  {
   "cell_type": "code",
   "execution_count": 5,
   "id": "2b204c4bea7abda7",
   "metadata": {},
   "outputs": [
    {
     "name": "stderr",
     "output_type": "stream",
     "text": [
      "c:\\Users\\stosk\\AppData\\Local\\Programs\\Python\\Python311\\Lib\\site-packages\\scipy\\optimize\\_minpack_py.py:177: RuntimeWarning: The iteration is not making good progress, as measured by the \n",
      "  improvement from the last ten iterations.\n",
      "  warnings.warn(msg, RuntimeWarning)\n"
     ]
    },
    {
     "data": {
      "text/plain": [
       "(-6.0, 12.0)"
      ]
     },
     "execution_count": 5,
     "metadata": {},
     "output_type": "execute_result"
    }
   ],
   "source": [
    "theta_2 = compute_theta_2(distribution=family[\"dist\"], theta_0=family[\"theta\"])\n",
    "theta_2"
   ]
  }
 ],
 "metadata": {
  "kernelspec": {
   "display_name": "Python 3",
   "language": "python",
   "name": "python3"
  },
  "language_info": {
   "codemirror_mode": {
    "name": "ipython",
    "version": 3
   },
   "file_extension": ".py",
   "mimetype": "text/x-python",
   "name": "python",
   "nbconvert_exporter": "python",
   "pygments_lexer": "ipython3",
   "version": "3.11.6"
  }
 },
 "nbformat": 4,
 "nbformat_minor": 5
}
