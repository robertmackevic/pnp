{
 "cells": [
  {
   "metadata": {},
   "cell_type": "code",
   "source": "from typing import Tuple",
   "id": "bca51555e7eb6354",
   "outputs": [],
   "execution_count": null
  },
  {
   "metadata": {
    "collapsed": true
   },
   "cell_type": "code",
   "source": [
    "N = 6\n",
    "S = 8\n",
    "I1 = 5\n",
    "I2 = 4\n",
    "\n",
    "theta_basic = {\n",
    "    1: (0, 1),\n",
    "    2: (S, N),\n",
    "    3: (N, S + 2),\n",
    "    4: (S, S + N),\n",
    "    5: (-N, S + 4),\n",
    "}\n",
    "\n",
    "\n",
    "def compute_theta_1(_theta_0: Tuple[float, float]) -> Tuple[float, float]:\n",
    "    pass"
   ],
   "id": "initial_id",
   "outputs": [],
   "execution_count": null
  },
  {
   "metadata": {},
   "cell_type": "code",
   "source": [
    "theta_0 = theta_basic[1]\n",
    "theta_0"
   ],
   "id": "3cfd187b56919be7",
   "outputs": [],
   "execution_count": null
  }
 ],
 "metadata": {
  "kernelspec": {
   "display_name": "Python 3",
   "language": "python",
   "name": "python3"
  },
  "language_info": {
   "codemirror_mode": {
    "name": "ipython",
    "version": 2
   },
   "file_extension": ".py",
   "mimetype": "text/x-python",
   "name": "python",
   "nbconvert_exporter": "python",
   "pygments_lexer": "ipython2",
   "version": "2.7.6"
  }
 },
 "nbformat": 4,
 "nbformat_minor": 5
}
