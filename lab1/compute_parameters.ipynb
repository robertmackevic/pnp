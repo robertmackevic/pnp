{
 "cells": [
  {
   "cell_type": "code",
   "source": [
    "from math import sqrt\n",
    "from typing import Tuple\n",
    "\n",
    "import numpy as np\n",
    "from matplotlib import pyplot as plt\n",
    "from numpy.typing import NDArray\n",
    "from scipy import stats"
   ],
   "id": "bca51555e7eb6354",
   "metadata": {},
   "outputs": [],
   "execution_count": null
  },
  {
   "cell_type": "code",
   "id": "initial_id",
   "metadata": {
    "collapsed": true
   },
   "source": [
    "N = 6\n",
    "S = 8\n",
    "I1 = 5\n",
    "I2 = 4\n",
    "\n",
    "alpha_1 = 0.1\n",
    "alpha_2 = 0.01\n",
    "\n",
    "tau = 1 / (1 + I1)\n",
    "p1 = (alpha_1 ** (1 - tau)) * (alpha_2 ** tau)\n",
    "p2 = 5 * p1 / np.sqrt(S)\n",
    "\n",
    "N1 = 10 * (2 + N)\n",
    "N2 = 100 * (2 + N)\n",
    "l = int((I2 + 2.5) / 2)\n",
    "\n",
    "thetas = {\n",
    "    1: (0, 1),\n",
    "    2: (S, N),\n",
    "    3: (N, S + 2),\n",
    "    4: (S, S + N),\n",
    "    5: (-N, S + 4),\n",
    "}\n",
    "\n",
    "\n",
    "def compute_pareto_mean(scale: float, shape: float) -> float:\n",
    "    return stats.pareto(b=shape, scale=scale).mean().item()\n",
    "\n",
    "\n",
    "def compute_pareto_variance(scale: float, shape: float) -> float:\n",
    "    return stats.pareto(b=shape, scale=scale).var().item()\n",
    "\n",
    "\n",
    "def compute_theta(_mu_0: float, _v0: float) -> Tuple[float, float]:\n",
    "    a1 = (_v0 + sqrt(_v0 ** 2 + _v0 * _mu_0 ** 2)) / _v0\n",
    "    a2 = (_v0 - sqrt(_v0 ** 2 + _v0 * _mu_0 ** 2)) / _v0\n",
    "    a = max(a1, a2)\n",
    "    assert a > 2\n",
    "    xm = _mu_0 * (a - 1) / a\n",
    "    assert xm > 0\n",
    "    return xm, a\n",
    "\n",
    "\n",
    "def compute_g(_theta: Tuple[float, float], num_samples: int) -> NDArray:\n",
    "    return stats.pareto.rvs(b=_theta[1], scale=_theta[0], size=num_samples)\n",
    "\n",
    "\n",
    "def plot_samples(samples: NDArray) -> None:\n",
    "    plt.figure(figsize=(8, 6))\n",
    "    plt.hist(samples, bins=50, density=True, alpha=0.75, color=\"blue\", edgecolor=\"black\")\n",
    "    plt.title(\"Distribution\")\n",
    "    plt.xlabel(\"Value\")\n",
    "    plt.ylabel(\"Density\")\n",
    "    plt.show()\n",
    "\n",
    "\n",
    "print(f\"\"\"\n",
    "N = {N}\n",
    "S = {S}\n",
    "I1 = {I1}\n",
    "I2 = {I2}\n",
    "alpha_1 = {alpha_1}\n",
    "alpha_2 = {alpha_2}\n",
    "tau = {tau}\n",
    "p1 = {p1}\n",
    "p2 = {p2}\n",
    "N1 = {N1}\n",
    "N2 = {N2}\n",
    "l = {l}\n",
    "thetas = {thetas}\n",
    "\"\"\")"
   ],
   "outputs": [],
   "execution_count": null
  },
  {
   "metadata": {},
   "cell_type": "code",
   "source": [
    "theta_0 = thetas[l]\n",
    "mu_0 = compute_pareto_mean(*theta_0)\n",
    "v0 = compute_pareto_variance(*theta_0)\n",
    "theta_1 = compute_theta(mu_0, N * v0)\n",
    "theta_2 = compute_theta(mu_0 + 2 * sqrt(v0), v0 / S)\n",
    "\n",
    "print(f\"\"\"\n",
    "theta_0 = {theta_0}\n",
    "mu_0 = {mu_0:.4f}\n",
    "v0 = {v0:.4f}\n",
    "theta_1 = {theta_1}\n",
    "theta_2 = {theta_2}\n",
    "\"\"\")"
   ],
   "id": "4047461a677770f",
   "outputs": [],
   "execution_count": null
  },
  {
   "metadata": {},
   "cell_type": "code",
   "source": [
    "G0 = compute_g(theta_0, num_samples=N2)\n",
    "G1 = compute_g(theta_1, num_samples=N2)\n",
    "G2 = compute_g(theta_2, num_samples=N2)"
   ],
   "id": "71254d30cc580bb9",
   "outputs": [],
   "execution_count": null
  },
  {
   "metadata": {},
   "cell_type": "code",
   "source": [
    "FY1 = (1 - p1) * G0 + p1 * G1\n",
    "plot_samples(FY1)"
   ],
   "id": "b7441746717c513e",
   "outputs": [],
   "execution_count": null
  },
  {
   "metadata": {},
   "cell_type": "code",
   "source": [
    "FY2 = (1 - p2) * G0 + p2 * G2\n",
    "plot_samples(FY2)"
   ],
   "id": "5bffb555b6a96e3e",
   "outputs": [],
   "execution_count": null
  }
 ],
 "metadata": {
  "kernelspec": {
   "display_name": "Python 3",
   "language": "python",
   "name": "python3"
  },
  "language_info": {
   "codemirror_mode": {
    "name": "ipython",
    "version": 3
   },
   "file_extension": ".py",
   "mimetype": "text/x-python",
   "name": "python",
   "nbconvert_exporter": "python",
   "pygments_lexer": "ipython3",
   "version": "3.11.6"
  }
 },
 "nbformat": 4,
 "nbformat_minor": 5
}
