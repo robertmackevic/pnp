{
 "cells": [
  {
   "metadata": {},
   "cell_type": "code",
   "source": [
    "from typing import Tuple\n",
    "\n",
    "import numpy as np\n",
    "from scipy import stats\n",
    "from scipy.optimize import fsolve"
   ],
   "id": "bca51555e7eb6354",
   "outputs": [],
   "execution_count": null
  },
  {
   "metadata": {
    "collapsed": true
   },
   "cell_type": "code",
   "source": [
    "N = 6\n",
    "S = 8\n",
    "I1 = 5\n",
    "I2 = 4\n",
    "\n",
    "alpha_1 = 0.1\n",
    "alpha_2 = 0.01\n",
    "\n",
    "tau = 1 / (1 + I1)\n",
    "p1 = (alpha_1 ** (1 - tau)) * (alpha_2 ** tau)\n",
    "p2 = 10 * np.sqrt(S) * p1\n",
    "\n",
    "dist_family = {\n",
    "    1: {\"theta\": (0, 1), \"dist\": stats.t},\n",
    "    2: {\"theta\": (S, N), \"dist\": stats.gamma},\n",
    "    3: {\"theta\": (N, S + 2), \"dist\": stats.pareto},\n",
    "    4: {\"theta\": (S, S + N), \"dist\": stats.beta},\n",
    "    5: {\"theta\": (-N, S + 4), \"dist\": stats.uniform},\n",
    "}\n",
    "\n",
    "\n",
    "def compute_theta_1(distribution: stats.rv_continuous, theta_0: Tuple[float, float]) -> Tuple[float, float]:\n",
    "    mu0 = distribution.mean(*theta_0)\n",
    "    v0 = distribution.var(*theta_0)\n",
    "\n",
    "    def equations(params: Tuple[float, float]) -> Tuple[float, float]:\n",
    "        scale, shape = params\n",
    "        return (distribution.mean(scale, shape) - mu0,\n",
    "                distribution.var(scale, shape) - N * v0)\n",
    "\n",
    "    _theta_1 = fsolve(equations, np.array(theta_0))\n",
    "    return _theta_1[0].item(), _theta_1[1].item()\n",
    "\n",
    "\n",
    "def compute_theta_2(distribution: stats.rv_continuous, theta_0: Tuple[float, float]) -> Tuple[float, float]:\n",
    "    mu0 = distribution.mean(*theta_0)\n",
    "    v0 = distribution.var(*theta_0)\n",
    "\n",
    "    def equations(params):\n",
    "        scale, shape = params\n",
    "        return (stats.pareto.mean(scale, shape) - (mu0 + 2 * np.sqrt(v0)),\n",
    "                stats.pareto.var(scale, shape) * S - v0)\n",
    "\n",
    "    _theta_2 = fsolve(equations, np.array(theta_0))\n",
    "    return _theta_2[0].item(), _theta_2[1].item()\n",
    "\n",
    "\n",
    "print(f\"\"\"\n",
    "N = {N}\n",
    "S = {S}\n",
    "I1 = {I1}\n",
    "I2 = {I2}\n",
    "alpha_1 = {alpha_1}\n",
    "alpha_2 = {alpha_2}\n",
    "tau = {tau}\n",
    "p1 = {p1}\n",
    "p2 = {p2}\n",
    "\"\"\")"
   ],
   "id": "initial_id",
   "outputs": [],
   "execution_count": null
  },
  {
   "metadata": {},
   "cell_type": "code",
   "source": [
    "family = dist_family[5]\n",
    "family"
   ],
   "id": "3cfd187b56919be7",
   "outputs": [],
   "execution_count": null
  },
  {
   "metadata": {},
   "cell_type": "code",
   "source": [
    "theta_1 = compute_theta_1(distribution=family[\"dist\"], theta_0=family[\"theta\"])\n",
    "theta_1"
   ],
   "id": "c427598c0c61f139",
   "outputs": [],
   "execution_count": null
  },
  {
   "metadata": {},
   "cell_type": "code",
   "source": [
    "theta_2 = compute_theta_2(distribution=family[\"dist\"], theta_0=family[\"theta\"])\n",
    "theta_2"
   ],
   "id": "2b204c4bea7abda7",
   "outputs": [],
   "execution_count": null
  }
 ],
 "metadata": {
  "kernelspec": {
   "display_name": "Python 3",
   "language": "python",
   "name": "python3"
  },
  "language_info": {
   "codemirror_mode": {
    "name": "ipython",
    "version": 2
   },
   "file_extension": ".py",
   "mimetype": "text/x-python",
   "name": "python",
   "nbconvert_exporter": "python",
   "pygments_lexer": "ipython2",
   "version": "2.7.6"
  }
 },
 "nbformat": 4,
 "nbformat_minor": 5
}
