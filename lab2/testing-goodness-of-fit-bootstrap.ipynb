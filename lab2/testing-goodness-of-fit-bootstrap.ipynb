{
 "cells": [
  {
   "cell_type": "code",
   "source": [
    "from math import sqrt\n",
    "\n",
    "import numpy as np\n",
    "\n",
    "from lab1.src import (\n",
    "    compute_pareto_mean,\n",
    "    compute_pareto_variance,\n",
    "    compute_theta,\n",
    "    seed_everything,\n",
    ")\n",
    "from lab2.src import test_goodness_of_fit_with_bootstrap\n",
    "\n",
    "seed_everything(0)"
   ],
   "id": "bca51555e7eb6354",
   "metadata": {
    "ExecuteTime": {
     "end_time": "2024-11-18T10:42:03.309934Z",
     "start_time": "2024-11-18T10:42:00.549214Z"
    }
   },
   "outputs": [],
   "execution_count": 1
  },
  {
   "cell_type": "code",
   "id": "initial_id",
   "metadata": {
    "collapsed": true,
    "ExecuteTime": {
     "end_time": "2024-11-18T10:42:03.324435Z",
     "start_time": "2024-11-18T10:42:03.317934Z"
    }
   },
   "source": [
    "N = 6\n",
    "S = 8\n",
    "I1 = 5\n",
    "I2 = 4\n",
    "\n",
    "alpha_1 = 0.1\n",
    "alpha_2 = 0.01\n",
    "\n",
    "tau = 1 / (1 + I1)\n",
    "p1 = (alpha_1 ** (1 - tau)) * (alpha_2 ** tau)\n",
    "p2 = 5 * p1 / np.sqrt(S)\n",
    "\n",
    "N1 = 10 * (2 + N)\n",
    "N2 = 100 * (2 + N)\n",
    "\n",
    "l = int((I2 + 2.5) / 2)\n",
    "\n",
    "thetas = {\n",
    "    1: (0, 1),\n",
    "    2: (S, N),\n",
    "    3: (N, S + 2),\n",
    "    4: (S, S + N),\n",
    "    5: (-N, S + 4),\n",
    "}\n",
    "\n",
    "print(f\"\"\"\n",
    "N = {N}\n",
    "S = {S}\n",
    "I1 = {I1}\n",
    "I2 = {I2}\n",
    "alpha_1 = {alpha_1}\n",
    "alpha_2 = {alpha_2}\n",
    "tau = {tau}\n",
    "p1 = {p1}\n",
    "p2 = {p2}\n",
    "N1 = {N1}\n",
    "N2 = {N2}\n",
    "l = {l}\n",
    "thetas = {thetas}\n",
    "\"\"\")"
   ],
   "outputs": [
    {
     "name": "stdout",
     "output_type": "stream",
     "text": [
      "\n",
      "N = 6\n",
      "S = 8\n",
      "I1 = 5\n",
      "I2 = 4\n",
      "alpha_1 = 0.1\n",
      "alpha_2 = 0.01\n",
      "tau = 0.16666666666666666\n",
      "p1 = 0.06812920690579613\n",
      "p2 = 0.12043656049987451\n",
      "N1 = 80\n",
      "N2 = 800\n",
      "l = 3\n",
      "thetas = {1: (0, 1), 2: (8, 6), 3: (6, 10), 4: (8, 14), 5: (-6, 12)}\n",
      "\n"
     ]
    }
   ],
   "execution_count": 2
  },
  {
   "metadata": {
    "ExecuteTime": {
     "end_time": "2024-11-18T10:42:03.511433Z",
     "start_time": "2024-11-18T10:42:03.503432Z"
    }
   },
   "cell_type": "code",
   "source": [
    "theta_0 = thetas[l]\n",
    "mu0 = compute_pareto_mean(*theta_0)\n",
    "v0 = compute_pareto_variance(*theta_0)\n",
    "\n",
    "mu1 = mu0\n",
    "v1 = N * v0\n",
    "\n",
    "mu2 = mu0 + 2 * sqrt(v0)\n",
    "v2 = v0 / S\n",
    "\n",
    "theta_1 = compute_theta(mu1, v1)\n",
    "theta_2 = compute_theta(mu2, v2)\n",
    "\n",
    "print(f\"\"\"\n",
    "theta_0 = {theta_0} | {compute_theta(mu0, v0)} (based on mu0 and v0)\n",
    "mu0 = {mu0}\n",
    "v0 = {v0}\n",
    "\n",
    "theta_1 = {theta_1}\n",
    "mu1 = {mu1} | {compute_pareto_mean(*theta_1)} (based on theta)\n",
    "v1 = {v1} | {compute_pareto_variance(*theta_1)} (based on theta)\n",
    "\n",
    "theta_2 = {theta_2}\n",
    "mu2 = {mu2} | {compute_pareto_mean(*theta_2)} (based on theta)\n",
    "v2 = {v2} | {compute_pareto_variance(*theta_2)} (based on theta)\n",
    "\"\"\")"
   ],
   "id": "4047461a677770f",
   "outputs": [
    {
     "name": "stdout",
     "output_type": "stream",
     "text": [
      "\n",
      "theta_0 = (6, 10) | (6.0, 10.0) (based on mu0 and v0)\n",
      "mu0 = 6.666666666666667\n",
      "v0 = 0.5555555555555556\n",
      "\n",
      "theta_1 = (5.273697218066576, 4.785938897200182)\n",
      "mu1 = 6.666666666666667 | 6.666666666666666 (based on theta)\n",
      "v1 = 3.3333333333333335 | 3.333333333333334 (based on theta)\n",
      "\n",
      "theta_2 = (7.902231125466136, 31.971223758837382)\n",
      "mu2 = 8.157378651666527 | 8.157378651666527 (based on theta)\n",
      "v2 = 0.06944444444444445 | 0.06944444444444445 (based on theta)\n",
      "\n"
     ]
    }
   ],
   "execution_count": 3
  },
  {
   "metadata": {
    "ExecuteTime": {
     "end_time": "2024-11-18T10:43:39.289934Z",
     "start_time": "2024-11-18T10:42:03.515934Z"
    }
   },
   "cell_type": "code",
   "source": [
    "test_goodness_of_fit_with_bootstrap(\n",
    "    theta_0=theta_0,\n",
    "    theta_1=theta_1,\n",
    "    theta_2=theta_2,\n",
    "    p1=p1,\n",
    "    p2=p2,\n",
    "    alpha=alpha_1,\n",
    "    sample_sizes=[N1, N2],\n",
    ")"
   ],
   "id": "b90e0310a6ed85fb",
   "outputs": [
    {
     "name": "stdout",
     "output_type": "stream",
     "text": [
      "\n",
      "=======Testing with N=80 samples=======\n",
      "Testing with p=0.06812920690579613 and theta=(5.273697218066576, 4.785938897200182)\n",
      "\talpha: 0.1\n",
      "\tp-value: 0.84175\n",
      "\tReject the null hypothesis: False\n",
      "Testing with p=0.12043656049987451 and theta=(7.902231125466136, 31.971223758837382)\n",
      "\talpha: 0.1\n",
      "\tp-value: 0.45625\n",
      "\tReject the null hypothesis: False\n",
      "\n",
      "=======Testing with N=800 samples=======\n",
      "Testing with p=0.06812920690579613 and theta=(5.273697218066576, 4.785938897200182)\n",
      "\talpha: 0.1\n",
      "\tp-value: 0.00000\n",
      "\tReject the null hypothesis: True\n",
      "Testing with p=0.12043656049987451 and theta=(7.902231125466136, 31.971223758837382)\n",
      "\talpha: 0.1\n",
      "\tp-value: 0.01632\n",
      "\tReject the null hypothesis: True\n"
     ]
    }
   ],
   "execution_count": 4
  }
 ],
 "metadata": {
  "kernelspec": {
   "display_name": "Python 3",
   "language": "python",
   "name": "python3"
  },
  "language_info": {
   "codemirror_mode": {
    "name": "ipython",
    "version": 3
   },
   "file_extension": ".py",
   "mimetype": "text/x-python",
   "name": "python",
   "nbconvert_exporter": "python",
   "pygments_lexer": "ipython3",
   "version": "3.11.6"
  }
 },
 "nbformat": 4,
 "nbformat_minor": 5
}
