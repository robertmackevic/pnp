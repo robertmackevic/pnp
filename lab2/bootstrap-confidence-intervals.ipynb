{
 "cells": [
  {
   "metadata": {
    "ExecuteTime": {
     "end_time": "2024-11-18T16:52:39.052525Z",
     "start_time": "2024-11-18T16:52:38.593532Z"
    }
   },
   "cell_type": "code",
   "source": [
    "from typing import List, Tuple\n",
    "\n",
    "import numpy as np\n",
    "from scipy import stats"
   ],
   "id": "1a029c3cb9afe961",
   "outputs": [],
   "execution_count": 1
  },
  {
   "metadata": {
    "collapsed": true,
    "ExecuteTime": {
     "end_time": "2024-11-18T16:52:39.061526Z",
     "start_time": "2024-11-18T16:52:39.056525Z"
    }
   },
   "cell_type": "code",
   "source": [
    "N = 6\n",
    "S = 8\n",
    "I1 = 5\n",
    "I2 = 4\n",
    "\n",
    "print(f\"\"\"\n",
    "N = {N}\n",
    "S = {S}\n",
    "I1 = {I1}\n",
    "I2 = {I2}\n",
    "\"\"\")"
   ],
   "id": "initial_id",
   "outputs": [
    {
     "name": "stdout",
     "output_type": "stream",
     "text": [
      "\n",
      "N = 6\n",
      "S = 8\n",
      "I1 = 5\n",
      "I2 = 4\n",
      "\n"
     ]
    }
   ],
   "execution_count": 2
  },
  {
   "metadata": {},
   "cell_type": "markdown",
   "source": "### Task A\n",
   "id": "5505f2399280466e"
  },
  {
   "metadata": {
    "ExecuteTime": {
     "end_time": "2024-11-18T16:52:39.134527Z",
     "start_time": "2024-11-18T16:52:39.131026Z"
    }
   },
   "cell_type": "code",
   "source": [
    "c = S\n",
    "d = 2 + N\n",
    "sample_size = (1 + N) * 10\n",
    "B = 100 * sample_size\n",
    "gamma = 0.9\n",
    "alpha = 1 - gamma\n",
    "print(f\"\"\"\n",
    "c = {c}\n",
    "d = {d}\n",
    "sample_size = {sample_size}\n",
    "B = {B}\n",
    "gamma = {gamma}\n",
    "alpha = {alpha}\n",
    "\"\"\")"
   ],
   "id": "3ae5aa28848cc2b4",
   "outputs": [
    {
     "name": "stdout",
     "output_type": "stream",
     "text": [
      "\n",
      "c = 8\n",
      "d = 8\n",
      "sample_size = 70\n",
      "B = 7000\n",
      "gamma = 0.9\n",
      "alpha = 0.09999999999999998\n",
      "\n"
     ]
    }
   ],
   "execution_count": 3
  },
  {
   "metadata": {
    "ExecuteTime": {
     "end_time": "2024-11-18T16:52:39.145022Z",
     "start_time": "2024-11-18T16:52:39.141022Z"
    }
   },
   "cell_type": "code",
   "source": [
    "def _format_ci(ci: List) -> Tuple[float, float, float]:\n",
    "    ci_min = ci[0].item()\n",
    "    ci_max = ci[1].item()\n",
    "    ci_range = ci_max - ci_min\n",
    "    return ci_min, ci_max, ci_range\n",
    "\n",
    "\n",
    "def compute_ci(bootstrap_distribution: List, observed_statistic: float):\n",
    "    std_error = np.std(bootstrap_distribution)\n",
    "    z = stats.norm.ppf(1 - alpha / 2)\n",
    "\n",
    "    # Normal CI\n",
    "    normal_ci = [observed_statistic - z * std_error, observed_statistic + z * std_error]\n",
    "\n",
    "    # Percentile CI\n",
    "    lower_percentile = np.percentile(bootstrap_distribution, 100 * alpha / 2)\n",
    "    upper_percentile = np.percentile(bootstrap_distribution, 100 * (1 - alpha / 2))\n",
    "    percentile_ci = [lower_percentile, upper_percentile]\n",
    "\n",
    "    # Pivotal CI\n",
    "    pivotal_ci = [\n",
    "        2 * observed_statistic - upper_percentile,\n",
    "        2 * observed_statistic - lower_percentile,\n",
    "    ]\n",
    "    print(\"\\tNormal CI: min {} max {} range {}\".format(*_format_ci(normal_ci)))\n",
    "    print(\"\\tPercentile CI: min {} max {} range {}\".format(*_format_ci(percentile_ci)))\n",
    "    print(\"\\tPivotal CI: min {} max {} range {}\".format(*_format_ci(pivotal_ci)))"
   ],
   "id": "7b20cdf2c41d0609",
   "outputs": [],
   "execution_count": 4
  },
  {
   "metadata": {
    "ExecuteTime": {
     "end_time": "2024-11-18T16:52:40.201507Z",
     "start_time": "2024-11-18T16:52:39.152522Z"
    }
   },
   "cell_type": "code",
   "source": [
    "Y_N = stats.pareto.rvs(d, scale=c, size=sample_size)\n",
    "shape, _, scale = stats.pareto.fit(Y_N, floc=0)\n",
    "observed_variance = np.var(Y_N, ddof=1) / N\n",
    "\n",
    "p_vars, np_vars, mc_vars = [], [], []\n",
    "for _ in range(B):\n",
    "    # Parametric bootstrap\n",
    "    p_sample = stats.pareto.rvs(shape, scale=scale, size=sample_size)\n",
    "    p_vars.append(np.var(p_sample, ddof=1) / N)\n",
    "    # Non-parametric bootstrap\n",
    "    np_sample = np.random.choice(Y_N, size=sample_size, replace=True)\n",
    "    np_vars.append(np.var(np_sample, ddof=1) / N)\n",
    "    # Monte Carlo\n",
    "    mc_sample = stats.pareto.rvs(b=d, scale=c, size=sample_size)\n",
    "    mc_vars.append(np.var(mc_sample, ddof=1) / N)\n",
    "\n",
    "print(\"Parametric\")\n",
    "compute_ci(p_vars, observed_variance)\n",
    "print(\"Non-parametric\")\n",
    "compute_ci(np_vars, observed_variance)\n",
    "print(\"Monte Carlo\")\n",
    "compute_ci(mc_vars, observed_variance)"
   ],
   "id": "fc0be13f03bd584e",
   "outputs": [
    {
     "name": "stdout",
     "output_type": "stream",
     "text": [
      "Parametric\n",
      "\tNormal CI: min -0.02935016655775141 max 0.6692018472432748 range 0.6985520138010262\n",
      "\tPercentile CI: min 0.1612965184333312 max 0.7305368700558147 range 0.5692403516224835\n",
      "\tPivotal CI: min -0.09068518937029124 max 0.47855516225219225 range 0.5692403516224835\n",
      "Non-parametric\n",
      "\tNormal CI: min 0.15747716749057136 max 0.48237451319495206 range 0.32489734570438067\n",
      "\tPercentile CI: min 0.16108783494252762 max 0.48372105651809266 range 0.32263322157556507\n",
      "\tPivotal CI: min 0.1561306241674308 max 0.4787638457429958 range 0.322633221575565\n",
      "Monte Carlo\n",
      "\tNormal CI: min 0.04276466095428394 max 0.5970870197312395 range 0.5543223587769555\n",
      "\tPercentile CI: min 0.13080661247109274 max 0.5691560626042633 range 0.4383494501331706\n",
      "\tPivotal CI: min 0.07069561808126013 max 0.5090450682144307 range 0.4383494501331706\n"
     ]
    }
   ],
   "execution_count": 5
  },
  {
   "metadata": {},
   "cell_type": "markdown",
   "source": "### Task B",
   "id": "c5bf0c45f7fa9324"
  },
  {
   "metadata": {
    "ExecuteTime": {
     "end_time": "2024-11-18T16:52:40.907994Z",
     "start_time": "2024-11-18T16:52:40.210005Z"
    }
   },
   "cell_type": "code",
   "source": [
    "Y_N = stats.pareto.rvs(d, scale=c, size=sample_size)\n",
    "observed_ml_estimator = min(Y_N)\n",
    "\n",
    "p_vars, np_vars, mc_vars = [], [], []\n",
    "for _ in range(B):\n",
    "    # Parametric bootstrap\n",
    "    p_sample = stats.pareto.rvs(shape, scale=scale, size=sample_size)\n",
    "    p_vars.append(np.min(p_sample))\n",
    "    # Non-parametric bootstrap\n",
    "    np_sample = np.random.choice(Y_N, size=sample_size, replace=True)\n",
    "    np_vars.append(np.min(np_sample))\n",
    "    # Monte Carlo\n",
    "    mc_sample = stats.pareto.rvs(b=d, scale=c, size=sample_size)\n",
    "    mc_vars.append(np.min(mc_sample))\n",
    "\n",
    "p_var = np.var(p_vars, ddof=1)\n",
    "np_var = np.var(np_vars, ddof=1)\n",
    "mc_var = np.var(mc_vars, ddof=1)\n",
    "\n",
    "print(\"Parametric\")\n",
    "compute_ci(p_vars, observed_ml_estimator)\n",
    "print(\"Non-parametric\")\n",
    "compute_ci(np_vars, observed_ml_estimator)\n",
    "print(\"Monte Carlo\")\n",
    "compute_ci(mc_vars, observed_ml_estimator)"
   ],
   "id": "88ba4966df10d32e",
   "outputs": [
    {
     "name": "stdout",
     "output_type": "stream",
     "text": [
      "Parametric\n",
      "\tNormal CI: min 7.980539210729824 max 8.03038982234589 range 0.04985061161606641\n",
      "\tPercentile CI: min 8.014862044782019 max 8.05964108546149 range 0.04477904067947058\n",
      "\tPivotal CI: min 7.951287947614226 max 7.9960669882936966 range 0.04477904067947058\n",
      "Non-parametric\n",
      "\tNormal CI: min 7.992991242096209 max 8.017937790979508 range 0.024946548883298725\n",
      "\tPercentile CI: min 8.005464516537858 max 8.009439559325434 range 0.003975042787576655\n",
      "\tPivotal CI: min 8.001489473750281 max 8.005464516537858 range 0.003975042787576655\n",
      "Monte Carlo\n",
      "\tNormal CI: min 7.981653687750929 max 8.029275345324788 range 0.04762165757385883\n",
      "\tPercentile CI: min 8.000719995933395 max 8.042582556498509 range 0.04186256056511439\n",
      "\tPivotal CI: min 7.9683464765772065 max 8.010209037142321 range 0.04186256056511439\n"
     ]
    }
   ],
   "execution_count": 6
  }
 ],
 "metadata": {
  "kernelspec": {
   "display_name": "Python 3",
   "language": "python",
   "name": "python3"
  },
  "language_info": {
   "codemirror_mode": {
    "name": "ipython",
    "version": 2
   },
   "file_extension": ".py",
   "mimetype": "text/x-python",
   "name": "python",
   "nbconvert_exporter": "python",
   "pygments_lexer": "ipython2",
   "version": "2.7.6"
  }
 },
 "nbformat": 4,
 "nbformat_minor": 5
}
